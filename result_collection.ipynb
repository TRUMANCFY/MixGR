{
 "cells": [
  {
   "cell_type": "markdown",
   "id": "8e1de5be",
   "metadata": {},
   "source": [
    "# Result collection\n",
    "\n",
    "The notebook is part of the domain-specific study, specifically recording the evaluation of different datasets.\n",
    "\n",
    "## Logitics\n",
    "- [Section 1: Scifact](#section_1)\n",
    "- [Section 2: SCIDOCS](#section_2)\n",
    "- [Section 3: NFCorpus](#section_3)\n",
    "- [Section 4: SciQ](#section_4)\n",
    "- [Section 5: RAG](#section_5)\n",
    "- [Section 6: Others](#section_6)"
   ]
  },
  {
   "cell_type": "code",
   "execution_count": null,
   "id": "a3564bc2",
   "metadata": {},
   "outputs": [],
   "source": [
    "from helpers.helper import *"
   ]
  },
  {
   "cell_type": "code",
   "execution_count": 2,
   "id": "55201805",
   "metadata": {},
   "outputs": [],
   "source": [
    "from helpers.evaluate import Evaluator"
   ]
  },
  {
   "cell_type": "code",
   "execution_count": null,
   "id": "5eb74fb5",
   "metadata": {},
   "outputs": [],
   "source": [
    "from datasets import load_dataset\n",
    "from transformers import AutoTokenizer, AutoModelForSeq2SeqLM\n",
    "import torch\n",
    "import json\n",
    "import random\n",
    "import re\n",
    "\n",
    "# for evaluation\n",
    "from beir.retrieval.evaluation import EvaluateRetrieval\n",
    "import csv\n",
    "import pickle as pkl\n",
    "import matplotlib.pyplot as plt\n",
    "\n",
    "from pyserini.search.lucene import LuceneSearcher"
   ]
  },
  {
   "cell_type": "code",
   "execution_count": 4,
   "id": "4a44d4ab",
   "metadata": {},
   "outputs": [],
   "source": [
    "evaluator = EvaluateRetrieval()"
   ]
  },
  {
   "cell_type": "markdown",
   "id": "c9095192",
   "metadata": {},
   "source": [
    "## <a id='section_1'> Section 1: SciFact </a>"
   ]
  },
  {
   "cell_type": "code",
   "execution_count": 483,
   "id": "dfa4b988",
   "metadata": {},
   "outputs": [],
   "source": [
    "SCIFACT_DIR = os.path.join(ROOT_DIR, 'retrieval/runs_scifact')\n",
    "scifact_qrels_test = load_qrels(os.path.join(ROOT_DIR, 'retrieval/task_topics/scifact/qrels/test.tsv'))\n",
    "scifact_qrels_train = load_qrels(os.path.join(ROOT_DIR, 'retrieval/task_topics/scifact/qrels/train.tsv'))\n",
    "scifact_qrels_reformat = {('scifact-' + k) : v for k, v in list(scifact_qrels_train.items()) + list(scifact_qrels_test.items())}"
   ]
  },
  {
   "cell_type": "code",
   "execution_count": 484,
   "id": "dabf7e63",
   "metadata": {},
   "outputs": [],
   "source": [
    "scifact_evaluator = Evaluator(task='scifact', golden_qrels=scifact_qrels_reformat, data_dir=SCIFACT_DIR, evaluator=evaluator)"
   ]
  },
  {
   "cell_type": "code",
   "execution_count": 485,
   "id": "79e62178",
   "metadata": {},
   "outputs": [
    {
     "name": "stderr",
     "output_type": "stream",
     "text": [
      "100%|██████████| 28281/28281 [00:00<00:00, 219083.64it/s]\n"
     ]
    },
    {
     "data": {
      "text/plain": [
       "{'NDCG@5': 0.64652,\n",
       " 'NDCG@20': 0.69168,\n",
       " 'Recall@5': 0.7192,\n",
       " 'Recall@20': 0.85271}"
      ]
     },
     "execution_count": 485,
     "metadata": {},
     "output_type": "execute_result"
    }
   ],
   "source": [
    "scifact_bm25_chunk_dict = scifact_evaluator.evaluate_bm25('run.bm25.hits-100.txt')\n",
    "scifact_bm25_chunk_dict"
   ]
  },
  {
   "cell_type": "code",
   "execution_count": 15,
   "id": "c2f43bb7",
   "metadata": {},
   "outputs": [
    {
     "name": "stderr",
     "output_type": "stream",
     "text": [
      "100%|██████████| 141500/141500 [00:00<00:00, 214327.40it/s]\n",
      "100%|██████████| 141500/141500 [00:00<00:00, 208412.73it/s]\n",
      "100%|██████████| 141500/141500 [00:00<00:00, 212808.90it/s]\n",
      "100%|██████████| 141500/141500 [00:00<00:00, 208013.46it/s]\n",
      "100%|██████████| 141500/141500 [00:00<00:00, 213482.14it/s]\n",
      "100%|██████████| 141500/141500 [00:00<00:00, 207890.03it/s]\n",
      "100%|██████████| 141500/141500 [00:00<00:00, 210664.61it/s]\n",
      "100%|██████████| 141500/141500 [00:00<00:00, 205477.71it/s]\n",
      "100%|██████████| 141500/141500 [00:00<00:00, 207377.33it/s]\n",
      "100%|██████████| 141500/141500 [00:00<00:00, 205727.86it/s]\n",
      "100%|██████████| 141500/141500 [00:00<00:00, 215848.66it/s]\n",
      "100%|██████████| 141500/141500 [00:00<00:00, 201015.15it/s]\n"
     ]
    }
   ],
   "source": [
    "# all is the results including all the queries\n",
    "# scifact_all_chunk_dict = scifact_evaluator.evaluate(lambda encoder: f'run.all.chunk.{encoder}.hits-500.txt', add_task_prefix=True)\n",
    "# single\n",
    "scifact_whole_chunk_dict = scifact_evaluator.evaluate(lambda encoder: f'run.whole.chunk.{encoder}.hits-500.txt')\n",
    "scifact_whole_prop_dict = scifact_evaluator.evaluate(lambda encoder: f'run.whole.prop.{encoder}.hits-500.txt')\n",
    "scifact_whole_conv_dict = scifact_evaluator.evaluate(lambda encoder: f'rrf/conv.tsv')\n",
    "\n",
    "# ablation study\n",
    "scifact_rrf_whole_prop_dict = scifact_evaluator.evaluate(lambda encoder: f'rrf/qid_cid_max.tsv')\n",
    "scifact_rrf_whole_conv_dict = scifact_evaluator.evaluate(lambda encoder: f'rrf/qid_cid_conv.tsv')\n",
    "scifact_rrf_prop_conv_dict = scifact_evaluator.evaluate(lambda encoder: f'run.rrf.chunk.{encoder}.hits-500.txt')\n",
    "\n",
    "# complete rrf\n",
    "scifact_whole_rrf_chunk_dict = scifact_evaluator.evaluate(lambda encoder: f'rrf/qid_cid_max_conv.tsv')"
   ]
  },
  {
   "cell_type": "code",
   "execution_count": 16,
   "id": "648bb139",
   "metadata": {},
   "outputs": [],
   "source": [
    "scifact_ndcg = [scifact_whole_chunk_dict, scifact_whole_prop_dict, scifact_whole_conv_dict, scifact_whole_rrf_chunk_dict]"
   ]
  },
  {
   "cell_type": "code",
   "execution_count": 17,
   "id": "b4dcd9cc",
   "metadata": {},
   "outputs": [
    {
     "name": "stdout",
     "output_type": "stream",
     "text": [
      "whole-chunk | whole-prop | conv | rrf |\n",
      "NDCG@5\n",
      "ance\n",
      "41.5|43.3|43.5|46.8\n",
      "NDCG@5\n",
      "contriever\n",
      "64.5|64.0|63.2|66.4\n",
      "NDCG@5\n",
      "dpr\n",
      "31.8|36.1|37.1|39.4\n",
      "NDCG@5\n",
      "gtr\n",
      "58.3|60.6|58.4|60.9\n",
      "NDCG@5\n",
      "simcse\n",
      "27.1|32.8|32.7|34.8\n",
      "NDCG@5\n",
      "tasb\n",
      "60.1|60.7|61.7|62.7\n",
      "avg\n",
      "47.2|49.6|49.4|51.8\n",
      "==============\n",
      "NDCG@20\n",
      "ance\n",
      "45.3|46.4|47.3|49.9\n",
      "NDCG@20\n",
      "contriever\n",
      "68.5|68.9|67.5|71.0\n",
      "NDCG@20\n",
      "dpr\n",
      "37.7|40.5|41.3|43.6\n",
      "NDCG@20\n",
      "gtr\n",
      "62.2|63.3|62.0|64.5\n",
      "NDCG@20\n",
      "simcse\n",
      "31.2|37.2|36.9|39.8\n",
      "NDCG@20\n",
      "tasb\n",
      "65.6|64.4|65.0|66.9\n",
      "avg\n",
      "51.8|53.5|53.4|56.0\n",
      "==============\n",
      "Recall@5\n",
      "ance\n",
      "51.2|51.4|50.2|54.4\n",
      "Recall@5\n",
      "contriever\n",
      "74.2|72.1|71.1|74.6\n",
      "Recall@5\n",
      "dpr\n",
      "39.4|44.4|43.0|47.3\n",
      "Recall@5\n",
      "gtr\n",
      "65.6|68.9|67.1|68.9\n",
      "Recall@5\n",
      "simcse\n",
      "32.8|41.2|40.1|42.6\n",
      "Recall@5\n",
      "tasb\n",
      "67.1|71.4|70.5|72.4\n",
      "avg\n",
      "55.0|58.2|57.0|60.0\n",
      "==============\n",
      "Recall@20\n",
      "ance\n",
      "63.1|61.3|62.9|64.6\n",
      "Recall@20\n",
      "contriever\n",
      "86.8|87.6|84.9|89.4\n",
      "Recall@20\n",
      "dpr\n",
      "59.0|58.8|56.6|60.9\n",
      "Recall@20\n",
      "gtr\n",
      "78.1|77.5|78.6|80.3\n",
      "Recall@20\n",
      "simcse\n",
      "47.0|56.0|54.7|59.0\n",
      "Recall@20\n",
      "tasb\n",
      "85.3|83.3|81.2|85.9\n",
      "avg\n",
      "69.9|70.7|69.8|73.3\n",
      "==============\n"
     ]
    }
   ],
   "source": [
    "print('whole-chunk | whole-prop | conv | rrf |')\n",
    "scifact_evaluator.display_metrics(scifact_ndcg)"
   ]
  },
  {
   "cell_type": "code",
   "execution_count": 18,
   "id": "0d92d21b",
   "metadata": {},
   "outputs": [
    {
     "name": "stdout",
     "output_type": "stream",
     "text": [
      "NDCG@5\n",
      "ance\n",
      "45.8|46.8|44.9|46.8\n",
      "NDCG@5\n",
      "contriever\n",
      "65.6|66.3|65.0|66.4\n",
      "NDCG@5\n",
      "dpr\n",
      "35.0|38.3|38.0|39.4\n",
      "NDCG@5\n",
      "gtr\n",
      "60.9|60.6|61.5|60.9\n",
      "NDCG@5\n",
      "simcse\n",
      "32.3|33.1|33.9|34.8\n",
      "NDCG@5\n",
      "tasb\n",
      "61.4|63.2|62.1|62.7\n",
      "avg\n",
      "50.2|51.4|50.9|51.8\n",
      "==============\n",
      "NDCG@20\n",
      "ance\n",
      "48.9|50.4|48.6|49.9\n",
      "NDCG@20\n",
      "contriever\n",
      "69.9|70.8|69.5|71.0\n",
      "NDCG@20\n",
      "dpr\n",
      "40.8|42.4|42.1|43.6\n",
      "NDCG@20\n",
      "gtr\n",
      "64.5|64.7|64.4|64.5\n",
      "NDCG@20\n",
      "simcse\n",
      "37.0|37.4|39.0|39.8\n",
      "NDCG@20\n",
      "tasb\n",
      "66.7|67.3|65.3|66.9\n",
      "avg\n",
      "54.6|55.5|54.8|56.0\n",
      "==============\n",
      "Recall@5\n",
      "ance\n",
      "54.6|53.5|50.6|54.4\n",
      "Recall@5\n",
      "contriever\n",
      "75.2|74.8|73.4|74.6\n",
      "Recall@5\n",
      "dpr\n",
      "43.0|46.7|45.9|47.3\n",
      "Recall@5\n",
      "gtr\n",
      "68.0|68.5|70.0|68.9\n",
      "Recall@5\n",
      "simcse\n",
      "41.0|41.8|42.0|42.6\n",
      "Recall@5\n",
      "tasb\n",
      "69.9|72.1|72.9|72.4\n",
      "avg\n",
      "58.6|59.6|59.1|60.0\n",
      "==============\n",
      "Recall@20\n",
      "ance\n",
      "64.5|65.2|62.2|64.6\n",
      "Recall@20\n",
      "contriever\n",
      "88.7|89.2|87.7|89.4\n",
      "Recall@20\n",
      "dpr\n",
      "62.1|59.9|59.1|60.9\n",
      "Recall@20\n",
      "gtr\n",
      "79.3|81.6|79.5|80.3\n",
      "Recall@20\n",
      "simcse\n",
      "56.2|55.4|59.3|59.0\n",
      "Recall@20\n",
      "tasb\n",
      "87.4|85.5|83.0|85.9\n",
      "avg\n",
      "73.0|72.8|71.8|73.3\n",
      "==============\n"
     ]
    }
   ],
   "source": [
    "scifact_ablation = [scifact_rrf_whole_prop_dict, scifact_rrf_whole_conv_dict, scifact_rrf_prop_conv_dict, scifact_whole_rrf_chunk_dict]\n",
    "scifact_evaluator.display_metrics(scifact_ablation)"
   ]
  },
  {
   "cell_type": "markdown",
   "id": "5a862428",
   "metadata": {},
   "source": [
    "## <a id='section_2'> Section 2: SciDocs </a>"
   ]
  },
  {
   "cell_type": "code",
   "execution_count": 19,
   "id": "562db988",
   "metadata": {},
   "outputs": [],
   "source": [
    "SCIDOCS_DIR = os.path.join(ROOT_DIR, 'retrieval/runs_scidocs')\n",
    "scidocs_qrels = load_qrels(os.path.join(ROOT_DIR, 'retrieval/task_topics/scidocs/qrels/test.tsv'))"
   ]
  },
  {
   "cell_type": "code",
   "execution_count": 20,
   "id": "502c62a3",
   "metadata": {},
   "outputs": [],
   "source": [
    "scidocs_evaluator = Evaluator(task='scidocs', golden_qrels=scidocs_qrels, data_dir=SCIDOCS_DIR, evaluator=evaluator)"
   ]
  },
  {
   "cell_type": "code",
   "execution_count": 21,
   "id": "feb4d59b",
   "metadata": {},
   "outputs": [
    {
     "name": "stderr",
     "output_type": "stream",
     "text": [
      "100%|██████████| 20600/20600 [00:00<00:00, 214749.30it/s]\n"
     ]
    },
    {
     "data": {
      "text/plain": [
       "{'NDCG@5': 0.14767,\n",
       " 'NDCG@20': 0.19924,\n",
       " 'Recall@5': 0.13204,\n",
       " 'Recall@20': 0.23932}"
      ]
     },
     "execution_count": 21,
     "metadata": {},
     "output_type": "execute_result"
    }
   ],
   "source": [
    "scidocs_bm25_chunk_dict = scidocs_evaluator.evaluate_bm25('run.bm25.hits-100.txt')\n",
    "scidocs_bm25_chunk_dict"
   ]
  },
  {
   "cell_type": "code",
   "execution_count": 22,
   "id": "0c96d67f",
   "metadata": {},
   "outputs": [
    {
     "name": "stderr",
     "output_type": "stream",
     "text": [
      "100%|██████████| 103000/103000 [00:00<00:00, 213220.40it/s]\n",
      "100%|██████████| 103000/103000 [00:00<00:00, 208013.13it/s]\n",
      "100%|██████████| 103000/103000 [00:00<00:00, 215966.92it/s]\n",
      "100%|██████████| 103000/103000 [00:00<00:00, 205985.76it/s]\n",
      "100%|██████████| 103000/103000 [00:00<00:00, 214246.09it/s]\n",
      "100%|██████████| 103000/103000 [00:00<00:00, 206877.56it/s]\n",
      "100%|██████████| 103000/103000 [00:00<00:00, 218452.89it/s]\n",
      "100%|██████████| 103000/103000 [00:00<00:00, 202341.71it/s]\n",
      "100%|██████████| 103000/103000 [00:00<00:00, 214710.02it/s]\n",
      "100%|██████████| 103000/103000 [00:00<00:00, 206100.05it/s]\n",
      "100%|██████████| 103000/103000 [00:00<00:00, 216315.34it/s]\n",
      "100%|██████████| 103000/103000 [00:00<00:00, 201015.15it/s]\n"
     ]
    }
   ],
   "source": [
    "# scidocs_all_chunk_dict = scidocs_evaluator.evaluate(lambda encoder: f'run.all.chunk.{encoder}.hits-500.txt')\n",
    "# single granularity\n",
    "scidocs_whole_chunk_dict = scidocs_evaluator.evaluate(lambda encoder: f'run.whole.chunk.{encoder}.hits-500.txt')\n",
    "scidocs_whole_prop_dict = scidocs_evaluator.evaluate(lambda encoder: f'run.whole.prop.{encoder}.hits-500.txt')\n",
    "scidocs_whole_conv_dict = scidocs_evaluator.evaluate(lambda encoder: f'rrf/conv.tsv')\n",
    "\n",
    "# ablation study\n",
    "scidocs_rrf_whole_prop_dict = scidocs_evaluator.evaluate(lambda encoder: f'rrf/qid_cid_max.tsv')\n",
    "scidocs_rrf_whole_conv_dict = scidocs_evaluator.evaluate(lambda encoder: f'rrf/qid_cid_conv.tsv')\n",
    "scidocs_rrf_prop_conv_dict = scidocs_evaluator.evaluate(lambda encoder: f'run.rrf.chunk.{encoder}.hits-500.txt')\n",
    "\n",
    "# rrf\n",
    "scidocs_whole_rrf_chunk_dict = scidocs_evaluator.evaluate(lambda encoder: f'rrf/qid_cid_max_conv.tsv')"
   ]
  },
  {
   "cell_type": "code",
   "execution_count": 23,
   "id": "0123d58a",
   "metadata": {},
   "outputs": [],
   "source": [
    "scidocs_ndcg = [scidocs_whole_chunk_dict, scidocs_whole_prop_dict, scidocs_whole_conv_dict, scidocs_whole_rrf_chunk_dict]"
   ]
  },
  {
   "cell_type": "code",
   "execution_count": 24,
   "id": "c174fb22",
   "metadata": {},
   "outputs": [
    {
     "name": "stdout",
     "output_type": "stream",
     "text": [
      "whole-chunk | whole-prop | conv | rrf\n",
      "NDCG@5\n",
      "ance\n",
      "9.3|9.2|7.5|9.6\n",
      "NDCG@5\n",
      "contriever\n",
      "13.5|14.5|13.5|15.5\n",
      "NDCG@5\n",
      "dpr\n",
      "7.3|7.8|6.4|8.2\n",
      "NDCG@5\n",
      "gtr\n",
      "13.6|13.2|11.6|13.6\n",
      "NDCG@5\n",
      "simcse\n",
      "7.6|8.2|7.3|9.1\n",
      "NDCG@5\n",
      "tasb\n",
      "13.8|14.3|12.6|14.0\n",
      "avg\n",
      "10.9|11.2|9.8|11.7\n",
      "==============\n",
      "NDCG@20\n",
      "ance\n",
      "13.1|12.9|11.9|14.1\n",
      "NDCG@20\n",
      "contriever\n",
      "18.5|19.4|18.3|20.7\n",
      "NDCG@20\n",
      "dpr\n",
      "10.4|10.6|10.0|11.5\n",
      "NDCG@20\n",
      "gtr\n",
      "18.9|18.0|16.2|19.2\n",
      "NDCG@20\n",
      "simcse\n",
      "9.7|11.1|10.5|12.2\n",
      "NDCG@20\n",
      "tasb\n",
      "19.3|18.1|17.2|19.6\n",
      "avg\n",
      "15.0|15.0|14.0|16.2\n",
      "==============\n",
      "Recall@5\n",
      "ance\n",
      "8.6|7.9|6.7|8.6\n",
      "Recall@5\n",
      "contriever\n",
      "12.4|12.8|12.1|13.8\n",
      "Recall@5\n",
      "dpr\n",
      "6.7|6.8|5.8|7.0\n",
      "Recall@5\n",
      "gtr\n",
      "12.7|12.1|10.2|12.4\n",
      "Recall@5\n",
      "simcse\n",
      "6.9|7.1|6.9|8.4\n",
      "Recall@5\n",
      "tasb\n",
      "12.4|13.0|11.4|12.5\n",
      "avg\n",
      "10.0|10.0|8.8|10.5\n",
      "==============\n",
      "Recall@20\n",
      "ance\n",
      "16.5|15.4|15.9|17.9\n",
      "Recall@20\n",
      "contriever\n",
      "22.9|23.1|22.2|24.7\n",
      "Recall@20\n",
      "dpr\n",
      "13.3|12.6|13.5|13.9\n",
      "Recall@20\n",
      "gtr\n",
      "23.4|22.3|20.1|24.1\n",
      "Recall@20\n",
      "simcse\n",
      "11.2|13.2|13.3|15.0\n",
      "Recall@20\n",
      "tasb\n",
      "23.8|21.0|21.1|24.3\n",
      "avg\n",
      "18.5|17.9|17.7|20.0\n",
      "==============\n"
     ]
    }
   ],
   "source": [
    "print('whole-chunk | whole-prop | conv | rrf')\n",
    "scidocs_evaluator.display_metrics(scidocs_ndcg)"
   ]
  },
  {
   "cell_type": "code",
   "execution_count": 25,
   "id": "edad65f4",
   "metadata": {},
   "outputs": [
    {
     "name": "stdout",
     "output_type": "stream",
     "text": [
      "NDCG@5\n",
      "ance\n",
      "10.0|9.0|8.8|9.6\n",
      "NDCG@5\n",
      "contriever\n",
      "14.8|14.6|14.7|15.5\n",
      "NDCG@5\n",
      "dpr\n",
      "8.2|7.5|8.0|8.2\n",
      "NDCG@5\n",
      "gtr\n",
      "13.4|13.8|12.6|13.6\n",
      "NDCG@5\n",
      "simcse\n",
      "8.7|8.5|8.5|9.1\n",
      "NDCG@5\n",
      "tasb\n",
      "13.8|13.8|13.6|14.0\n",
      "avg\n",
      "11.5|11.2|11.0|11.7\n",
      "==============\n",
      "NDCG@20\n",
      "ance\n",
      "13.7|13.4|13.4|14.1\n",
      "NDCG@20\n",
      "contriever\n",
      "20.0|20.1|20.0|20.7\n",
      "NDCG@20\n",
      "dpr\n",
      "11.2|11.2|11.2|11.5\n",
      "NDCG@20\n",
      "gtr\n",
      "18.9|19.5|18.0|19.2\n",
      "NDCG@20\n",
      "simcse\n",
      "11.5|11.6|11.9|12.2\n",
      "NDCG@20\n",
      "tasb\n",
      "19.2|19.6|18.8|19.6\n",
      "avg\n",
      "15.7|15.9|15.5|16.2\n",
      "==============\n",
      "Recall@5\n",
      "ance\n",
      "9.1|8.3|7.9|8.6\n",
      "Recall@5\n",
      "contriever\n",
      "13.2|13.5|13.1|13.8\n",
      "Recall@5\n",
      "dpr\n",
      "7.0|6.6|7.0|7.0\n",
      "Recall@5\n",
      "gtr\n",
      "12.4|12.6|11.3|12.4\n",
      "Recall@5\n",
      "simcse\n",
      "7.9|8.1|8.0|8.4\n",
      "Recall@5\n",
      "tasb\n",
      "12.2|12.2|12.1|12.5\n",
      "avg\n",
      "10.3|10.2|9.9|10.5\n",
      "==============\n",
      "Recall@20\n",
      "ance\n",
      "16.6|17.6|17.6|17.9\n",
      "Recall@20\n",
      "contriever\n",
      "24.3|24.9|23.9|24.7\n",
      "Recall@20\n",
      "dpr\n",
      "13.3|14.1|13.7|13.9\n",
      "Recall@20\n",
      "gtr\n",
      "23.7|24.7|22.4|24.1\n",
      "Recall@20\n",
      "simcse\n",
      "13.8|14.4|15.2|15.0\n",
      "Recall@20\n",
      "tasb\n",
      "23.5|24.3|22.9|24.3\n",
      "avg\n",
      "19.2|20.0|19.3|20.0\n",
      "==============\n"
     ]
    }
   ],
   "source": [
    "scidocs_ablation = [scidocs_rrf_whole_prop_dict, scidocs_rrf_whole_conv_dict, scidocs_rrf_prop_conv_dict, scidocs_whole_rrf_chunk_dict]\n",
    "scidocs_evaluator.display_metrics(scidocs_ablation)"
   ]
  },
  {
   "cell_type": "markdown",
   "id": "434f1717",
   "metadata": {},
   "source": [
    "## <a id='section_3'> Section 3: NFCorpus </a>"
   ]
  },
  {
   "cell_type": "code",
   "execution_count": 26,
   "id": "465b702f",
   "metadata": {},
   "outputs": [],
   "source": [
    "NFCORPUS_DIR = os.path.join(ROOT_DIR, 'retrieval/runs_nfcorpus')\n",
    "nfcorpus_qrels = load_qrels(os.path.join(ROOT_DIR, 'retrieval/task_topics/nfcorpus/origin/agg_qrels.tsv'))"
   ]
  },
  {
   "cell_type": "code",
   "execution_count": 27,
   "id": "67e4bfda",
   "metadata": {},
   "outputs": [],
   "source": [
    "nfcorpus_evaluator = Evaluator(task='nfcorpus', golden_qrels=nfcorpus_qrels, data_dir=NFCORPUS_DIR, evaluator=evaluator)"
   ]
  },
  {
   "cell_type": "code",
   "execution_count": 28,
   "id": "57a25b79",
   "metadata": {},
   "outputs": [
    {
     "name": "stderr",
     "output_type": "stream",
     "text": [
      "100%|██████████| 64602/64602 [00:00<00:00, 222209.45it/s]\n"
     ]
    },
    {
     "data": {
      "text/plain": [
       "{'NDCG@5': 0.37759,\n",
       " 'NDCG@20': 0.30657,\n",
       " 'Recall@5': 0.10251,\n",
       " 'Recall@20': 0.19169}"
      ]
     },
     "execution_count": 28,
     "metadata": {},
     "output_type": "execute_result"
    }
   ],
   "source": [
    "nfcorpus_bm25_chunk_dict = nfcorpus_evaluator.evaluate_bm25('run.bm25.hits-100.txt')\n",
    "nfcorpus_bm25_chunk_dict"
   ]
  },
  {
   "cell_type": "code",
   "execution_count": 29,
   "id": "67dc6da8",
   "metadata": {},
   "outputs": [
    {
     "name": "stderr",
     "output_type": "stream",
     "text": [
      "100%|██████████| 323500/323500 [00:01<00:00, 211398.68it/s]\n",
      "100%|██████████| 323500/323500 [00:01<00:00, 206857.65it/s]\n",
      "100%|██████████| 323500/323500 [00:01<00:00, 207608.95it/s]\n",
      "100%|██████████| 323500/323500 [00:01<00:00, 263999.13it/s]\n",
      "100%|██████████| 323500/323500 [00:01<00:00, 290537.28it/s]\n",
      "100%|██████████| 323500/323500 [00:01<00:00, 282452.00it/s]\n",
      "100%|██████████| 323500/323500 [00:01<00:00, 221238.22it/s]\n",
      "100%|██████████| 323500/323500 [00:01<00:00, 217378.93it/s]\n",
      "100%|██████████| 323500/323500 [00:01<00:00, 207786.35it/s]\n",
      "100%|██████████| 323500/323500 [00:01<00:00, 203216.30it/s]\n",
      "100%|██████████| 323500/323500 [00:01<00:00, 212441.31it/s]\n",
      "100%|██████████| 323500/323500 [00:01<00:00, 202287.20it/s]\n"
     ]
    }
   ],
   "source": [
    "# nfcorpus_all_chunk_dict = nfcorpus_evaluator.evaluate(lambda encoder: f'run.all.chunk.{encoder}.hits-500.txt')\n",
    "\n",
    "nfcorpus_whole_chunk_dict = nfcorpus_evaluator.evaluate(lambda encoder: f'run.whole.chunk.{encoder}.hits-500.txt')\n",
    "nfcorpus_whole_prop_dict = nfcorpus_evaluator.evaluate(lambda encoder: f'run.whole.prop.{encoder}.hits-500.txt')\n",
    "nfcorpus_whole_conv_dict = nfcorpus_evaluator.evaluate(lambda encoder: f'rrf/conv.tsv')\n",
    "\n",
    "nfcorpus_rrf_whole_prop_dict = nfcorpus_evaluator.evaluate(lambda encoder: f'rrf/qid_cid_max.tsv')\n",
    "nfcorpus_rrf_whole_conv_dict = nfcorpus_evaluator.evaluate(lambda encoder: f'rrf/qid_cid_conv.tsv')\n",
    "nfcorpus_rrf_prop_conv_dict = nfcorpus_evaluator.evaluate(lambda encoder: f'run.rrf.chunk.{encoder}.hits-500.txt')\n",
    "\n",
    "nfcorpus_whole_rrf_chunk_dict = nfcorpus_evaluator.evaluate(lambda encoder: f'rrf/qid_cid_max_conv.tsv')"
   ]
  },
  {
   "cell_type": "code",
   "execution_count": 30,
   "id": "6d090fa3",
   "metadata": {},
   "outputs": [],
   "source": [
    "nfcorpus_ndcg = [nfcorpus_whole_chunk_dict, nfcorpus_whole_prop_dict, nfcorpus_whole_conv_dict, nfcorpus_whole_rrf_chunk_dict]"
   ]
  },
  {
   "cell_type": "code",
   "execution_count": 31,
   "id": "959dd369",
   "metadata": {},
   "outputs": [
    {
     "name": "stdout",
     "output_type": "stream",
     "text": [
      "whole-chunk | whole-prop | conv | rrf\n",
      "NDCG@5\n",
      "ance\n",
      "29.9|29.4|30.3|31.9\n",
      "NDCG@5\n",
      "contriever\n",
      "42.2|43.0|41.4|44.0\n",
      "NDCG@5\n",
      "dpr\n",
      "25.1|25.2|26.5|27.7\n",
      "NDCG@5\n",
      "gtr\n",
      "42.1|42.3|41.5|43.3\n",
      "NDCG@5\n",
      "simcse\n",
      "16.2|20.0|22.8|22.3\n",
      "NDCG@5\n",
      "tasb\n",
      "42.3|42.5|40.9|43.6\n",
      "avg\n",
      "33.0|33.7|33.9|35.5\n",
      "==============\n",
      "NDCG@20\n",
      "ance\n",
      "24.4|24.0|24.5|25.9\n",
      "NDCG@20\n",
      "contriever\n",
      "34.9|35.5|34.9|37.1\n",
      "NDCG@20\n",
      "dpr\n",
      "20.7|20.6|21.4|22.9\n",
      "NDCG@20\n",
      "gtr\n",
      "34.1|34.4|33.6|35.6\n",
      "NDCG@20\n",
      "simcse\n",
      "13.3|16.4|18.3|18.1\n",
      "NDCG@20\n",
      "tasb\n",
      "34.1|34.4|33.1|35.2\n",
      "avg\n",
      "26.9|27.6|27.6|29.1\n",
      "==============\n",
      "Recall@5\n",
      "ance\n",
      "7.8|7.7|7.6|8.4\n",
      "Recall@5\n",
      "contriever\n",
      "11.5|11.8|11.1|12.2\n",
      "Recall@5\n",
      "dpr\n",
      "6.7|6.8|6.8|7.3\n",
      "Recall@5\n",
      "gtr\n",
      "11.3|10.9|10.4|11.3\n",
      "Recall@5\n",
      "simcse\n",
      "4.1|5.2|5.8|5.8\n",
      "Recall@5\n",
      "tasb\n",
      "11.2|11.4|10.7|11.6\n",
      "avg\n",
      "8.7|9.0|8.7|9.4\n",
      "==============\n",
      "Recall@20\n",
      "ance\n",
      "14.9|15.1|14.9|15.9\n",
      "Recall@20\n",
      "contriever\n",
      "21.5|21.9|21.4|22.9\n",
      "Recall@20\n",
      "dpr\n",
      "12.8|12.7|13.2|14.3\n",
      "Recall@20\n",
      "gtr\n",
      "20.4|20.5|20.3|21.5\n",
      "Recall@20\n",
      "simcse\n",
      "8.3|10.0|11.0|11.0\n",
      "Recall@20\n",
      "tasb\n",
      "20.7|20.8|19.6|21.1\n",
      "avg\n",
      "16.4|16.8|16.8|17.8\n",
      "==============\n"
     ]
    }
   ],
   "source": [
    "print('whole-chunk | whole-prop | conv | rrf')\n",
    "nfcorpus_evaluator.display_metrics(nfcorpus_ndcg)"
   ]
  },
  {
   "cell_type": "code",
   "execution_count": 32,
   "id": "5482b811",
   "metadata": {},
   "outputs": [
    {
     "name": "stdout",
     "output_type": "stream",
     "text": [
      "NDCG@5\n",
      "ance\n",
      "30.7|32.0|30.8|31.9\n",
      "NDCG@5\n",
      "contriever\n",
      "43.6|43.0|43.2|44.0\n",
      "NDCG@5\n",
      "dpr\n",
      "26.5|27.5|26.6|27.7\n",
      "NDCG@5\n",
      "gtr\n",
      "43.2|43.0|42.4|43.3\n",
      "NDCG@5\n",
      "simcse\n",
      "19.6|21.4|22.8|22.3\n",
      "NDCG@5\n",
      "tasb\n",
      "42.9|42.9|42.7|43.6\n",
      "avg\n",
      "34.4|35.0|34.8|35.5\n",
      "==============\n",
      "NDCG@20\n",
      "ance\n",
      "25.2|26.2|25.1|25.9\n",
      "NDCG@20\n",
      "contriever\n",
      "36.2|36.6|36.3|37.1\n",
      "NDCG@20\n",
      "dpr\n",
      "21.9|22.8|22.2|22.9\n",
      "NDCG@20\n",
      "gtr\n",
      "35.2|35.5|34.9|35.6\n",
      "NDCG@20\n",
      "simcse\n",
      "16.0|17.4|18.6|18.1\n",
      "NDCG@20\n",
      "tasb\n",
      "34.7|34.9|34.5|35.2\n",
      "avg\n",
      "28.2|28.9|28.6|29.1\n",
      "==============\n",
      "Recall@5\n",
      "ance\n",
      "7.7|8.4|8.0|8.4\n",
      "Recall@5\n",
      "contriever\n",
      "12.1|11.5|11.9|12.2\n",
      "Recall@5\n",
      "dpr\n",
      "7.0|7.5|7.3|7.3\n",
      "Recall@5\n",
      "gtr\n",
      "11.4|11.2|10.7|11.3\n",
      "Recall@5\n",
      "simcse\n",
      "5.1|5.5|6.0|5.8\n",
      "Recall@5\n",
      "tasb\n",
      "11.5|11.5|11.4|11.6\n",
      "avg\n",
      "9.1|9.3|9.2|9.4\n",
      "==============\n",
      "Recall@20\n",
      "ance\n",
      "15.5|15.9|15.6|15.9\n",
      "Recall@20\n",
      "contriever\n",
      "22.3|22.8|22.4|22.9\n",
      "Recall@20\n",
      "dpr\n",
      "13.5|14.1|14.0|14.3\n",
      "Recall@20\n",
      "gtr\n",
      "21.0|21.3|21.1|21.5\n",
      "Recall@20\n",
      "simcse\n",
      "9.9|10.5|11.2|11.0\n",
      "Recall@20\n",
      "tasb\n",
      "21.0|21.0|20.8|21.1\n",
      "avg\n",
      "17.2|17.6|17.5|17.8\n",
      "==============\n"
     ]
    }
   ],
   "source": [
    "nfcorpus_ablation = [nfcorpus_rrf_whole_prop_dict, nfcorpus_rrf_whole_conv_dict, nfcorpus_rrf_prop_conv_dict, nfcorpus_whole_rrf_chunk_dict]\n",
    "nfcorpus_evaluator.display_metrics(nfcorpus_ablation)"
   ]
  },
  {
   "cell_type": "markdown",
   "id": "72fe6d02",
   "metadata": {},
   "source": [
    "## <a id='section_4'> Section 4: SciQ </a>"
   ]
  },
  {
   "cell_type": "code",
   "execution_count": 33,
   "id": "08d0f134",
   "metadata": {},
   "outputs": [],
   "source": [
    "SCIQ_DIR = os.path.join(ROOT_DIR, 'retrieval/runs_sciq')\n",
    "sciq_qrels = load_qrels(os.path.join(ROOT_DIR, 'retrieval/task_topics/sciq/qrels.tsv'))"
   ]
  },
  {
   "cell_type": "code",
   "execution_count": 34,
   "id": "22500617",
   "metadata": {},
   "outputs": [],
   "source": [
    "sciq_evaluator = Evaluator(task='sciq', golden_qrels=sciq_qrels, data_dir=SCIQ_DIR, evaluator=evaluator)"
   ]
  },
  {
   "cell_type": "code",
   "execution_count": 35,
   "id": "a54ffe5f",
   "metadata": {},
   "outputs": [
    {
     "name": "stderr",
     "output_type": "stream",
     "text": [
      "100%|██████████| 25600/25600 [00:00<00:00, 213810.59it/s]\n"
     ]
    },
    {
     "data": {
      "text/plain": [
       "{'NDCG@5': 0.9191,\n",
       " 'NDCG@20': 0.92225,\n",
       " 'Recall@5': 0.97656,\n",
       " 'Recall@20': 0.98828}"
      ]
     },
     "execution_count": 35,
     "metadata": {},
     "output_type": "execute_result"
    }
   ],
   "source": [
    "sciq_bm25_chunk_dict = sciq_evaluator.evaluate_bm25('run.bm25.hits-100.txt')\n",
    "sciq_bm25_chunk_dict"
   ]
  },
  {
   "cell_type": "code",
   "execution_count": 36,
   "id": "316f1eea",
   "metadata": {},
   "outputs": [
    {
     "name": "stderr",
     "output_type": "stream",
     "text": [
      "100%|██████████| 128000/128000 [00:00<00:00, 221265.61it/s]\n",
      "100%|██████████| 128000/128000 [00:00<00:00, 213905.41it/s]\n",
      "100%|██████████| 128000/128000 [00:00<00:00, 221034.32it/s]\n",
      "100%|██████████| 128000/128000 [00:00<00:00, 215633.50it/s]\n",
      "100%|██████████| 128000/128000 [00:00<00:00, 220569.37it/s]\n",
      "100%|██████████| 128000/128000 [00:00<00:00, 215838.87it/s]\n",
      "100%|██████████| 128000/128000 [00:00<00:00, 222421.83it/s]\n",
      "100%|██████████| 128000/128000 [00:00<00:00, 214371.76it/s]\n",
      "100%|██████████| 128000/128000 [00:00<00:00, 220107.99it/s]\n",
      "100%|██████████| 128000/128000 [00:00<00:00, 215707.49it/s]\n",
      "100%|██████████| 128000/128000 [00:00<00:00, 217544.07it/s]\n",
      "100%|██████████| 128000/128000 [00:00<00:00, 213554.68it/s]\n"
     ]
    }
   ],
   "source": [
    "# sciq_all_chunk_dict = sciq_evaluator.evaluate(lambda encoder: f'run.all.chunk.{encoder}.hits-500.txt')\n",
    "# single granularity\n",
    "sciq_whole_chunk_dict = sciq_evaluator.evaluate(lambda encoder: f'run.whole.chunk.{encoder}.hits-500.txt')\n",
    "sciq_whole_prop_dict = sciq_evaluator.evaluate(lambda encoder: f'run.whole.prop.{encoder}.hits-500.txt')\n",
    "sciq_whole_conv_dict = sciq_evaluator.evaluate(lambda encoder: f'rrf/conv.tsv')\n",
    "\n",
    "# ablation study\n",
    "sciq_rrf_whole_prop_dict = sciq_evaluator.evaluate(lambda encoder: f'rrf/qid_cid_max.tsv')\n",
    "sciq_rrf_whole_conv_dict = sciq_evaluator.evaluate(lambda encoder: f'rrf/qid_cid_conv.tsv')\n",
    "sciq_rrf_prop_conv_dict = sciq_evaluator.evaluate(lambda encoder: f'run.rrf.chunk.{encoder}.hits-500.txt')\n",
    "\n",
    "# rrf\n",
    "sciq_whole_rrf_chunk_dict = sciq_evaluator.evaluate(lambda encoder: f'rrf/qid_cid_max_conv.tsv')"
   ]
  },
  {
   "cell_type": "code",
   "execution_count": 37,
   "id": "9fd42a1f",
   "metadata": {},
   "outputs": [],
   "source": [
    "sciq_ndcg = [sciq_whole_chunk_dict, sciq_whole_prop_dict, sciq_whole_conv_dict, sciq_whole_rrf_chunk_dict]"
   ]
  },
  {
   "cell_type": "code",
   "execution_count": 38,
   "id": "f5e0bff7",
   "metadata": {},
   "outputs": [
    {
     "name": "stdout",
     "output_type": "stream",
     "text": [
      "chunk | prop | conv | rrf | rrf_w_chunk\n",
      "NDCG@5\n",
      "ance\n",
      "66.4|62.3|66.1|74.4\n",
      "NDCG@5\n",
      "contriever\n",
      "67.2|79.7|83.6|85.2\n",
      "NDCG@5\n",
      "dpr\n",
      "60.6|63.6|67.7|73.6\n",
      "NDCG@5\n",
      "gtr\n",
      "83.3|85.8|88.5|92.9\n",
      "NDCG@5\n",
      "simcse\n",
      "62.3|75.6|80.9|84.0\n",
      "NDCG@5\n",
      "tasb\n",
      "84.8|85.6|85.3|90.5\n",
      "avg\n",
      "70.8|75.4|78.7|83.5\n",
      "==============\n",
      "NDCG@20\n",
      "ance\n",
      "69.1|66.4|69.1|76.8\n",
      "NDCG@20\n",
      "contriever\n",
      "70.0|81.0|84.6|86.7\n",
      "NDCG@20\n",
      "dpr\n",
      "64.1|67.9|70.7|76.1\n",
      "NDCG@20\n",
      "gtr\n",
      "84.4|86.5|89.0|93.0\n",
      "NDCG@20\n",
      "simcse\n",
      "67.3|78.5|83.2|85.5\n",
      "NDCG@20\n",
      "tasb\n",
      "86.3|86.3|86.6|91.0\n",
      "avg\n",
      "73.5|77.8|80.5|84.9\n",
      "==============\n",
      "Recall@5\n",
      "ance\n",
      "80.1|73.4|77.3|87.5\n",
      "Recall@5\n",
      "contriever\n",
      "80.9|92.6|93.4|93.4\n",
      "Recall@5\n",
      "dpr\n",
      "75.0|76.6|80.5|87.1\n",
      "Recall@5\n",
      "gtr\n",
      "94.1|96.1|96.1|98.4\n",
      "Recall@5\n",
      "simcse\n",
      "72.7|85.9|88.7|93.0\n",
      "Recall@5\n",
      "tasb\n",
      "93.0|96.1|93.4|97.3\n",
      "avg\n",
      "82.6|86.8|88.2|92.8\n",
      "==============\n",
      "Recall@20\n",
      "ance\n",
      "89.1|87.5|87.9|95.7\n",
      "Recall@20\n",
      "contriever\n",
      "90.2|96.9|96.5|98.0\n",
      "Recall@20\n",
      "dpr\n",
      "85.9|91.0|90.6|95.3\n",
      "Recall@20\n",
      "gtr\n",
      "97.7|98.4|97.7|98.8\n",
      "Recall@20\n",
      "simcse\n",
      "89.5|96.1|95.7|97.7\n",
      "Recall@20\n",
      "tasb\n",
      "97.7|98.4|97.7|98.8\n",
      "avg\n",
      "91.7|94.7|94.3|97.4\n",
      "==============\n"
     ]
    }
   ],
   "source": [
    "print('chunk | prop | conv | rrf | rrf_w_chunk')\n",
    "sciq_evaluator.display_metrics(sciq_ndcg)"
   ]
  },
  {
   "cell_type": "code",
   "execution_count": 39,
   "id": "b97b51b0",
   "metadata": {},
   "outputs": [
    {
     "name": "stdout",
     "output_type": "stream",
     "text": [
      "NDCG@5\n",
      "ance\n",
      "69.0|71.3|67.8|74.4\n",
      "NDCG@5\n",
      "contriever\n",
      "78.0|81.6|83.3|85.2\n",
      "NDCG@5\n",
      "dpr\n",
      "66.6|71.0|69.5|73.6\n",
      "NDCG@5\n",
      "gtr\n",
      "87.2|88.4|89.0|92.9\n",
      "NDCG@5\n",
      "simcse\n",
      "76.1|77.9|80.7|84.0\n",
      "NDCG@5\n",
      "tasb\n",
      "86.7|88.3|85.2|90.5\n",
      "avg\n",
      "77.3|79.7|79.3|83.5\n",
      "==============\n",
      "NDCG@20\n",
      "ance\n",
      "72.0|73.9|70.1|76.8\n",
      "NDCG@20\n",
      "contriever\n",
      "80.1|83.3|84.8|86.7\n",
      "NDCG@20\n",
      "dpr\n",
      "69.9|73.1|72.2|76.1\n",
      "NDCG@20\n",
      "gtr\n",
      "87.5|88.5|89.3|93.0\n",
      "NDCG@20\n",
      "simcse\n",
      "78.0|79.6|82.2|85.5\n",
      "NDCG@20\n",
      "tasb\n",
      "87.0|88.8|85.9|91.0\n",
      "avg\n",
      "79.1|81.2|80.7|84.9\n",
      "==============\n",
      "Recall@5\n",
      "ance\n",
      "85.2|86.3|82.0|87.5\n",
      "Recall@5\n",
      "contriever\n",
      "91.4|92.6|93.4|93.4\n",
      "Recall@5\n",
      "dpr\n",
      "83.6|86.3|84.4|87.1\n",
      "Recall@5\n",
      "gtr\n",
      "98.0|98.4|98.0|98.4\n",
      "Recall@5\n",
      "simcse\n",
      "90.6|91.4|92.2|93.0\n",
      "Recall@5\n",
      "tasb\n",
      "97.7|97.3|96.1|97.3\n",
      "avg\n",
      "91.1|92.1|91.0|92.8\n",
      "==============\n",
      "Recall@20\n",
      "ance\n",
      "94.9|94.9|89.8|95.7\n",
      "Recall@20\n",
      "contriever\n",
      "98.0|97.7|98.0|98.0\n",
      "Recall@20\n",
      "dpr\n",
      "94.5|93.4|93.4|95.3\n",
      "Recall@20\n",
      "gtr\n",
      "98.8|98.8|98.8|98.8\n",
      "Recall@20\n",
      "simcse\n",
      "97.3|96.9|97.3|97.7\n",
      "Recall@20\n",
      "tasb\n",
      "98.8|98.8|98.4|98.8\n",
      "avg\n",
      "97.1|96.7|96.0|97.4\n",
      "==============\n"
     ]
    }
   ],
   "source": [
    "sciq_ablation = [sciq_rrf_whole_prop_dict, sciq_rrf_whole_conv_dict, sciq_rrf_prop_conv_dict, sciq_whole_rrf_chunk_dict]\n",
    "sciq_evaluator.display_metrics(sciq_ablation)"
   ]
  },
  {
   "cell_type": "code",
   "execution_count": 41,
   "id": "c7ca80d0",
   "metadata": {},
   "outputs": [],
   "source": [
    "fiqa_evaluator = Evaluator(task='fiqa', golden_qrels=fiqa_qrels_reformat, data_dir=FIQA_DIR, evaluator=evaluator)"
   ]
  },
  {
   "cell_type": "code",
   "execution_count": 42,
   "id": "6aa0512d-04c7-4f46-a114-4468dc7adbc9",
   "metadata": {},
   "outputs": [
    {
     "name": "stderr",
     "output_type": "stream",
     "text": [
      "100%|██████████| 690500/690500 [00:03<00:00, 207996.99it/s]\n",
      "100%|██████████| 690500/690500 [00:03<00:00, 206471.99it/s]\n",
      "100%|██████████| 690500/690500 [00:02<00:00, 285159.90it/s]\n",
      "100%|██████████| 690500/690500 [00:03<00:00, 216149.84it/s]\n",
      "100%|██████████| 690500/690500 [00:03<00:00, 203327.08it/s]\n",
      "100%|██████████| 690500/690500 [00:03<00:00, 206729.09it/s]\n",
      "100%|██████████| 690500/690500 [00:03<00:00, 209990.35it/s]\n",
      "100%|██████████| 690500/690500 [00:03<00:00, 204529.80it/s]\n",
      "100%|██████████| 690500/690500 [00:03<00:00, 206224.26it/s]\n",
      "100%|██████████| 690500/690500 [00:03<00:00, 200304.40it/s]\n",
      "100%|██████████| 690500/690500 [00:03<00:00, 205857.61it/s]\n",
      "100%|██████████| 690500/690500 [00:03<00:00, 205459.38it/s]\n"
     ]
    }
   ],
   "source": [
    "# single granularity\n",
    "fiqa_whole_chunk_dict = fiqa_evaluator.evaluate(lambda encoder: f'run.whole.chunk.{encoder}.hits-500.txt')\n",
    "fiqa_whole_prop_dict = fiqa_evaluator.evaluate(lambda encoder: f'run.whole.prop.{encoder}.hits-500.txt')\n",
    "fiqa_whole_conv_dict = fiqa_evaluator.evaluate(lambda encoder: f'rrf/conv.tsv')\n",
    "\n",
    "# rrf\n",
    "fiqa_whole_rrf_chunk_dict = fiqa_evaluator.evaluate(lambda encoder: f'rrf/qid_cid_max_conv.tsv')"
   ]
  },
  {
   "cell_type": "code",
   "execution_count": 43,
   "id": "94446277-1a54-4f2e-a60c-2c9c8be384dd",
   "metadata": {},
   "outputs": [],
   "source": [
    "fiqa_ndcg = [fiqa_whole_chunk_dict, fiqa_whole_prop_dict, fiqa_whole_conv_dict, fiqa_whole_rrf_chunk_dict]"
   ]
  },
  {
   "cell_type": "code",
   "execution_count": 44,
   "id": "2ffcbe8a",
   "metadata": {
    "scrolled": true
   },
   "outputs": [
    {
     "name": "stdout",
     "output_type": "stream",
     "text": [
      "NDCG@5\n",
      "ance\n",
      "14.6|8.5|8.4|12.8\n",
      "NDCG@5\n",
      "contriever\n",
      "25.0|18.8|18.6|24.7\n",
      "NDCG@5\n",
      "dpr\n",
      "12.0|8.4|9.2|11.2\n",
      "NDCG@5\n",
      "gtr\n",
      "34.4|22.8|19.6|30.8\n",
      "NDCG@5\n",
      "simcse\n",
      "8.4|7.6|9.3|10.6\n",
      "NDCG@5\n",
      "tasb\n",
      "26.7|15.3|13.9|22.8\n",
      "avg\n",
      "20.2|13.6|13.2|18.8\n",
      "==============\n",
      "NDCG@20\n",
      "ance\n",
      "18.2|10.9|11.3|16.2\n",
      "NDCG@20\n",
      "contriever\n",
      "29.9|23.1|22.9|29.8\n",
      "NDCG@20\n",
      "dpr\n",
      "14.6|10.9|11.8|14.9\n",
      "NDCG@20\n",
      "gtr\n",
      "39.6|27.4|24.2|36.1\n",
      "NDCG@20\n",
      "simcse\n",
      "10.9|9.7|11.6|13.8\n",
      "NDCG@20\n",
      "tasb\n",
      "31.5|19.7|17.8|27.9\n",
      "avg\n",
      "24.1|16.9|16.6|23.1\n",
      "==============\n",
      "Recall@5\n",
      "ance\n",
      "15.6|9.2|9.2|14.6\n",
      "Recall@5\n",
      "contriever\n",
      "26.7|20.6|20.3|26.8\n",
      "Recall@5\n",
      "dpr\n",
      "13.8|9.0|10.1|12.5\n",
      "Recall@5\n",
      "gtr\n",
      "35.6|24.6|21.5|33.2\n",
      "Recall@5\n",
      "simcse\n",
      "9.3|8.7|10.4|12.2\n",
      "Recall@5\n",
      "tasb\n",
      "28.9|17.2|15.9|26.0\n",
      "avg\n",
      "21.7|14.9|14.6|20.9\n",
      "==============\n",
      "Recall@20\n",
      "ance\n",
      "26.4|16.4|17.8|24.8\n",
      "Recall@20\n",
      "contriever\n",
      "41.7|33.3|33.0|41.9\n",
      "Recall@20\n",
      "dpr\n",
      "21.6|16.5|17.8|23.1\n",
      "Recall@20\n",
      "gtr\n",
      "51.0|38.5|34.8|48.9\n",
      "Recall@20\n",
      "simcse\n",
      "16.9|15.5|17.6|21.8\n",
      "Recall@20\n",
      "tasb\n",
      "42.9|30.5|27.5|41.3\n",
      "avg\n",
      "33.4|25.1|24.7|33.6\n",
      "==============\n"
     ]
    }
   ],
   "source": [
    "fiqa_evaluator.display_metrics(fiqa_ndcg)"
   ]
  },
  {
   "cell_type": "code",
   "execution_count": 45,
   "id": "777dae85-4cdb-4e5a-9a3e-d5eb78740131",
   "metadata": {},
   "outputs": [],
   "source": [
    "ARGUANA_DIR = os.path.join(ROOT_DIR, 'retrieval/runs_arguana')\n",
    "arguana_qrels = load_qrels(os.path.join(ROOT_DIR, 'retrieval/task_topics/arguana/qrels/test.tsv'))\n",
    "arguana_qrels_reformat = {('arguana-' + k) : v for k, v in arguana_qrels.items()}"
   ]
  },
  {
   "cell_type": "code",
   "execution_count": 46,
   "id": "6e2e1a56-dfdd-4940-a1a8-cd469e11db39",
   "metadata": {},
   "outputs": [],
   "source": [
    "arguana_evaluator = Evaluator(task='arguana', golden_qrels=arguana_qrels_reformat, data_dir=ARGUANA_DIR, encoder_suffix='_chunk', evaluator=evaluator)"
   ]
  },
  {
   "cell_type": "code",
   "execution_count": 47,
   "id": "71c16855-ca46-4118-85c4-e65bb6131df6",
   "metadata": {},
   "outputs": [
    {
     "name": "stderr",
     "output_type": "stream",
     "text": [
      "100%|██████████| 703000/703000 [00:03<00:00, 211796.44it/s]\n",
      "100%|██████████| 699000/699000 [00:03<00:00, 208939.57it/s]\n",
      "100%|██████████| 703000/703000 [00:03<00:00, 208890.91it/s]\n",
      "100%|██████████| 703000/703000 [00:03<00:00, 208387.38it/s]\n",
      "100%|██████████| 703000/703000 [00:03<00:00, 212079.46it/s]\n",
      "100%|██████████| 703000/703000 [00:03<00:00, 207932.42it/s]\n",
      "100%|██████████| 703000/703000 [00:03<00:00, 212770.38it/s]\n",
      "100%|██████████| 699000/699000 [00:03<00:00, 209023.43it/s]\n",
      "100%|██████████| 703000/703000 [00:03<00:00, 210437.05it/s]\n",
      "100%|██████████| 703000/703000 [00:03<00:00, 209527.46it/s]\n",
      "100%|██████████| 703000/703000 [00:03<00:00, 212374.73it/s]\n",
      "100%|██████████| 703000/703000 [00:03<00:00, 208532.13it/s]\n"
     ]
    }
   ],
   "source": [
    "# single granularity\n",
    "arguana_whole_chunk_dict = arguana_evaluator.evaluate(lambda encoder: f'run.whole.chunk.{encoder}.hits-500.txt')\n",
    "arguana_whole_prop_dict = arguana_evaluator.evaluate(lambda encoder: f'run.whole.prop.{encoder}.hits-500.txt')\n",
    "arguana_whole_conv_dict = arguana_evaluator.evaluate(lambda encoder: f'rrf/conv.tsv')\n",
    "\n",
    "# rrf\n",
    "arguana_whole_rrf_chunk_dict = arguana_evaluator.evaluate(lambda encoder: f'rrf/qid_cid_max_conv.tsv')"
   ]
  },
  {
   "cell_type": "code",
   "execution_count": 48,
   "id": "5e255617-0147-4834-a922-71059af938e1",
   "metadata": {},
   "outputs": [],
   "source": [
    "arguana_ndcg = [arguana_whole_chunk_dict, arguana_whole_prop_dict, arguana_whole_conv_dict, arguana_whole_rrf_chunk_dict]"
   ]
  },
  {
   "cell_type": "code",
   "execution_count": 49,
   "id": "03470172-6999-4863-a5b1-f8e27951be72",
   "metadata": {
    "scrolled": true
   },
   "outputs": [
    {
     "name": "stdout",
     "output_type": "stream",
     "text": [
      "NDCG@5\n",
      "ance\n",
      "12.0|11.7|10.1|12.4\n",
      "NDCG@5\n",
      "contriever\n",
      "25.9|24.8|24.1|28.7\n",
      "NDCG@5\n",
      "dpr\n",
      "9.0|8.4|6.1|8.2\n",
      "NDCG@5\n",
      "gtr\n",
      "31.4|25.6|20.4|29.4\n",
      "NDCG@5\n",
      "simcse\n",
      "16.4|12.5|6.3|12.7\n",
      "NDCG@5\n",
      "tasb\n",
      "27.9|18.8|12.9|22.6\n",
      "avg\n",
      "20.5|17.0|13.3|19.0\n",
      "==============\n",
      "NDCG@20\n",
      "ance\n",
      "20.5|21.3|18.6|21.8\n",
      "NDCG@20\n",
      "contriever\n",
      "36.0|35.9|34.5|39.2\n",
      "NDCG@20\n",
      "dpr\n",
      "16.6|16.9|12.2|16.3\n",
      "NDCG@20\n",
      "gtr\n",
      "40.7|36.9|30.0|39.4\n",
      "NDCG@20\n",
      "simcse\n",
      "25.9|20.9|12.3|22.4\n",
      "NDCG@20\n",
      "tasb\n",
      "37.8|30.5|20.8|33.6\n",
      "avg\n",
      "29.6|27.1|21.4|28.8\n",
      "==============\n",
      "Recall@5\n",
      "ance\n",
      "23.0|21.3|19.5|24.2\n",
      "Recall@5\n",
      "contriever\n",
      "48.7|47.0|45.9|54.2\n",
      "Recall@5\n",
      "dpr\n",
      "17.3|15.6|11.7|15.9\n",
      "Recall@5\n",
      "gtr\n",
      "58.7|46.2|38.3|55.1\n",
      "Recall@5\n",
      "simcse\n",
      "31.5|21.5|12.1|24.8\n",
      "Recall@5\n",
      "tasb\n",
      "52.3|35.2|25.5|43.2\n",
      "avg\n",
      "38.6|31.1|25.5|36.2\n",
      "==============\n",
      "Recall@20\n",
      "ance\n",
      "52.9|54.7|49.1|57.0\n",
      "Recall@20\n",
      "contriever\n",
      "82.4|84.5|81.6|89.8\n",
      "Recall@20\n",
      "dpr\n",
      "43.7|45.7|33.3|44.3\n",
      "Recall@20\n",
      "gtr\n",
      "89.5|84.1|71.6|89.0\n",
      "Recall@20\n",
      "simcse\n",
      "64.3|50.9|33.7|58.7\n",
      "Recall@20\n",
      "tasb\n",
      "85.2|75.0|53.1|80.5\n",
      "avg\n",
      "69.7|65.8|53.7|69.9\n",
      "==============\n"
     ]
    }
   ],
   "source": [
    "arguana_evaluator.display_metrics(arguana_ndcg)"
   ]
  },
  {
   "cell_type": "markdown",
   "id": "8e1e74c6",
   "metadata": {},
   "source": [
    "## <a id='section_5'> Section 5: RAG </a>"
   ]
  },
  {
   "cell_type": "code",
   "execution_count": 14,
   "id": "70a61d49",
   "metadata": {},
   "outputs": [],
   "source": [
    "def readjsonl(_path):\n",
    "    with open(_path, 'r') as f:\n",
    "        lines = [json.loads(line) for line in f.readlines()]\n",
    "        \n",
    "    return lines"
   ]
  },
  {
   "cell_type": "code",
   "execution_count": 239,
   "id": "6716e7ee",
   "metadata": {},
   "outputs": [],
   "source": [
    "# lines = readjsonl(os.path.join(ROOT_DIR, 'context_qa_rrf.log'))\n",
    "lines = readjsonl(os.path.join(ROOT_DIR, 'context_llama3.log'))\n",
    "# lines = readjsonl(os.path.join(ROOT_DIR, 'context_llama.log'))"
   ]
  },
  {
   "cell_type": "code",
   "execution_count": 241,
   "id": "edb89b53",
   "metadata": {},
   "outputs": [],
   "source": [
    "def print_result(lines, em=10, context_type='max_words'):\n",
    "    # for llama3 -  we always need to remove the original MCQA setupabs\n",
    "    filtered_lines = [line for line in lines if not (line['dataset'] == 'sciq' and 'f1' not in line)]\n",
    "    filtered_lines = [line for line in filtered_lines if context_type in line and line[context_type] == em]\n",
    "    \n",
    "    result_dict = {}\n",
    "    for line in filtered_lines:\n",
    "        dataset = line['dataset']\n",
    "        retrieval_type = line['retrieval']\n",
    "        perf = line['em']\n",
    "        _encoder = line['encoder']\n",
    "        if dataset not in result_dict:\n",
    "            result_dict[dataset] = {}\n",
    "        \n",
    "        if retrieval_type not in result_dict[dataset]:\n",
    "            result_dict[dataset][retrieval_type] = {}\n",
    "        result_dict[dataset][retrieval_type][_encoder] = perf\n",
    "        \n",
    "    \n",
    "    for dataset in ['sciq', 'scifact']:\n",
    "        print(dataset)\n",
    "        if context_type != 'max_words':\n",
    "            retrieval_types = ['chunk', 'rrf_chunk']\n",
    "        else:\n",
    "            retrieval_types = ['qid_max', 'rrf_qid_max']\n",
    "        for retrieval_type in retrieval_types:\n",
    "            avg = np.mean([result_dict[dataset][retrieval_type][_encoder] for _encoder in encoders]).item()\n",
    "            print(f\"{retrieval_type:<15}\", '|'.join([str(result_dict[dataset][retrieval_type][_encoder]) for _encoder in encoders] + [str(round(avg, 1))]))\n",
    "\n",
    "#             print(f\"{retrieval_type:<15}\", '|'.join([str(result_dict[dataset][retrieval_type][_encoder]) for _encoder in encoders]))\n"
   ]
  },
  {
   "cell_type": "code",
   "execution_count": 221,
   "id": "cfb74e71",
   "metadata": {
    "scrolled": true
   },
   "outputs": [
    {
     "name": "stdout",
     "output_type": "stream",
     "text": [
      "sciq\n",
      "chunk           52.7|53.9|52.0|59.8|54.7|60.5|55.6\n",
      "rrf_chunk       54.7|61.7|57.4|64.1|61.3|64.5|60.6\n",
      "scifact\n",
      "chunk           51.7|63.4|51.2|61.0|50.0|62.8|56.7\n",
      "rrf_chunk       57.6|64.0|51.7|62.8|48.3|62.2|57.8\n"
     ]
    }
   ],
   "source": [
    "print_result(lines, em=1, context_type='top_passages')"
   ]
  },
  {
   "cell_type": "code",
   "execution_count": 223,
   "id": "929b0fbe",
   "metadata": {},
   "outputs": [
    {
     "name": "stdout",
     "output_type": "stream",
     "text": [
      "sciq\n",
      "chunk           59.4|63.3|57.4|64.8|58.2|66.4|61.6\n",
      "rrf_chunk       62.9|66.0|62.5|66.0|66.4|67.6|65.2\n",
      "scifact\n",
      "chunk           65.1|75.6|59.9|72.1|61.6|74.4|68.1\n",
      "rrf_chunk       69.2|70.9|65.7|73.8|62.8|70.3|68.8\n"
     ]
    }
   ],
   "source": [
    "print_result(lines, em=3, context_type='top_passages')"
   ]
  },
  {
   "cell_type": "code",
   "execution_count": 244,
   "id": "9ddcbbd1-6822-43e5-9d31-c66fd10b88f3",
   "metadata": {},
   "outputs": [
    {
     "name": "stdout",
     "output_type": "stream",
     "text": [
      "sciq\n",
      "qid_max         53.9|56.2|55.5|60.2|56.2|56.2|56.4\n",
      "rrf_qid_max     55.5|57.4|59.0|60.9|59.0|58.2|58.3\n",
      "scifact\n",
      "qid_max         47.1|49.4|49.4|41.9|43.0|50.0|46.8\n",
      "rrf_qid_max     45.9|47.7|52.3|45.9|45.3|52.3|48.2\n"
     ]
    }
   ],
   "source": [
    "print_result(lines, 50)"
   ]
  },
  {
   "cell_type": "code",
   "execution_count": 246,
   "id": "ea436cbf-b6af-48ad-a8e1-bf2b4064320a",
   "metadata": {},
   "outputs": [
    {
     "name": "stdout",
     "output_type": "stream",
     "text": [
      "sciq\n",
      "qid_max         60.5|62.9|60.2|63.7|60.9|60.9|61.5\n",
      "rrf_qid_max     59.8|62.5|60.9|65.2|63.3|62.9|62.4\n",
      "scifact\n",
      "qid_max         61.6|67.4|56.4|66.3|60.5|69.8|63.7\n",
      "rrf_qid_max     66.9|71.5|59.9|63.4|62.2|68.0|65.3\n"
     ]
    }
   ],
   "source": [
    "print_result(lines, 200)"
   ]
  },
  {
   "cell_type": "code",
   "execution_count": 249,
   "id": "9162ce6f",
   "metadata": {},
   "outputs": [],
   "source": [
    "def print_latex(lines, datasets, ems, context_type='max_words'):\n",
    "    filtered_lines = [line for line in lines if not (line['dataset'] == 'sciq' and 'f1' not in line)]\n",
    "\n",
    "    filtered_lines = [line for line in filtered_lines if context_type in line and line[context_type] in ems]\n",
    "    # from outer to inner: retriever - setup - dataset - em200/500\n",
    "    result_dict = {}\n",
    "    \n",
    "    for line in filtered_lines:\n",
    "        dataset = line['dataset']\n",
    "        retrieval_type = line['retrieval']\n",
    "        perf = line['em']\n",
    "        _encoder = line['encoder']\n",
    "        max_words = line[context_type]\n",
    "        if _encoder not in result_dict:\n",
    "            result_dict[_encoder] = {}\n",
    "        \n",
    "        if retrieval_type not in result_dict[_encoder]:\n",
    "            result_dict[_encoder][retrieval_type] = {}\n",
    "            \n",
    "        if dataset not in result_dict[_encoder][retrieval_type]:\n",
    "            result_dict[_encoder][retrieval_type][dataset] = {}\n",
    "        \n",
    "        if max_words not in result_dict[_encoder][retrieval_type][dataset]:\n",
    "            result_dict[_encoder][retrieval_type][dataset][max_words] = {}\n",
    "            \n",
    "        result_dict[_encoder][retrieval_type][dataset][max_words] = perf\n",
    "    \n",
    "    lines = []\n",
    "    for _encoder in encoders:\n",
    "        for retrieval_type in ['qid_max', 'rrf_qid_max']:\n",
    "            values = []\n",
    "            for dataset in datasets:\n",
    "                for max_words in ems:\n",
    "                    values.append(str(result_dict[_encoder][retrieval_type][dataset][max_words]))\n",
    "            lines.append(_encoder + ' ' + retrieval_type + ' ' + ' & '.join(values))\n",
    "    return lines"
   ]
  },
  {
   "cell_type": "code",
   "execution_count": 233,
   "id": "9aa7a4b6",
   "metadata": {},
   "outputs": [
    {
     "data": {
      "text/plain": [
       "['ance chunk 51.7 & 65.1 & 52.7 & 59.4',\n",
       " 'ance rrf_chunk 57.6 & 69.2 & 54.7 & 62.9',\n",
       " 'contriever chunk 63.4 & 75.6 & 53.9 & 63.3',\n",
       " 'contriever rrf_chunk 64.0 & 70.9 & 61.7 & 66.0',\n",
       " 'dpr chunk 51.2 & 59.9 & 52.0 & 57.4',\n",
       " 'dpr rrf_chunk 51.7 & 65.7 & 57.4 & 62.5',\n",
       " 'gtr chunk 61.0 & 72.1 & 59.8 & 64.8',\n",
       " 'gtr rrf_chunk 62.8 & 73.8 & 64.1 & 66.0',\n",
       " 'simcse chunk 50.0 & 61.6 & 54.7 & 58.2',\n",
       " 'simcse rrf_chunk 48.3 & 62.8 & 61.3 & 66.4',\n",
       " 'tasb chunk 62.8 & 74.4 & 60.5 & 66.4',\n",
       " 'tasb rrf_chunk 62.2 & 70.3 & 64.5 & 67.6']"
      ]
     },
     "execution_count": 233,
     "metadata": {},
     "output_type": "execute_result"
    }
   ],
   "source": [
    "print_latex(lines, ['scifact', 'sciq'], [1, 3], context_type='top_passages')"
   ]
  },
  {
   "cell_type": "code",
   "execution_count": 250,
   "id": "bf9a87af-b613-4b69-9774-0eed7337c420",
   "metadata": {
    "scrolled": false
   },
   "outputs": [
    {
     "data": {
      "text/plain": [
       "['ance qid_max 47.1 & 61.6 & 53.9 & 60.5',\n",
       " 'ance rrf_qid_max 45.9 & 66.9 & 55.5 & 59.8',\n",
       " 'contriever qid_max 49.4 & 67.4 & 56.2 & 62.9',\n",
       " 'contriever rrf_qid_max 47.7 & 71.5 & 57.4 & 62.5',\n",
       " 'dpr qid_max 49.4 & 56.4 & 55.5 & 60.2',\n",
       " 'dpr rrf_qid_max 52.3 & 59.9 & 59.0 & 60.9',\n",
       " 'gtr qid_max 41.9 & 66.3 & 60.2 & 63.7',\n",
       " 'gtr rrf_qid_max 45.9 & 63.4 & 60.9 & 65.2',\n",
       " 'simcse qid_max 43.0 & 60.5 & 56.2 & 60.9',\n",
       " 'simcse rrf_qid_max 45.3 & 62.2 & 59.0 & 63.3',\n",
       " 'tasb qid_max 50.0 & 69.8 & 56.2 & 60.9',\n",
       " 'tasb rrf_qid_max 52.3 & 68.0 & 58.2 & 62.9']"
      ]
     },
     "execution_count": 250,
     "metadata": {},
     "output_type": "execute_result"
    }
   ],
   "source": [
    "print_latex(lines, ['scifact', 'sciq'], [50, 200])"
   ]
  },
  {
   "cell_type": "markdown",
   "id": "c13292e3",
   "metadata": {},
   "source": [
    "## Section: 6: Others"
   ]
  },
  {
   "cell_type": "markdown",
   "id": "b6a1d958",
   "metadata": {},
   "source": [
    "### Section 6.1: Proposition-level MixGR"
   ]
  },
  {
   "cell_type": "code",
   "execution_count": 17,
   "id": "6d73168e-de42-42c0-a4f3-454fd6bc577b",
   "metadata": {},
   "outputs": [],
   "source": [
    "# {em200: {sciq: {qid_max:, rrf_qid_max:}}}\n",
    "simcse_pid_dict = {}\n",
    "\n",
    "for line in lines:\n",
    "    if line['encoder'] == 'simcse' and (line['retrieval'] == 'qid_max' or line['retrieval'] == 'rrf_qid_max') and (line['max_words'] == 200 or line['max_words'] == 500):\n",
    "        dataset = line['dataset']\n",
    "        max_words = 'EM@' + str(line['max_words'])\n",
    "        retrieval = line['retrieval']\n",
    "        em = line['em']\n",
    "\n",
    "        if dataset not in simcse_pid_dict:\n",
    "            simcse_pid_dict[dataset] = {}\n",
    "\n",
    "        if max_words not in simcse_pid_dict[dataset]:\n",
    "            simcse_pid_dict[dataset][max_words] = {}\n",
    "\n",
    "        simcse_pid_dict[dataset][max_words][retrieval] = em"
   ]
  },
  {
   "cell_type": "code",
   "execution_count": 470,
   "id": "11dd4463-8537-48c7-84ab-874c5112325a",
   "metadata": {},
   "outputs": [
    {
     "data": {
      "image/png": "[encoded data removed]",
      "text/plain": [
       "<Figure size 1200x450 with 1 Axes>"
      ]
     },
     "metadata": {},
     "output_type": "display_data"
    }
   ],
   "source": [
    "import pandas as pd\n",
    "import matplotlib.pyplot as plt\n",
    "from matplotlib.patches import Patch\n",
    "import matplotlib.cm as cm\n",
    "\n",
    "# Data\n",
    "data = {\n",
    "    'SciFact': {\n",
    "        'EM@50': {'query-prop': 43.0, 'MixGR': 45.3},\n",
    "        'EM@200': {'query-prop': 60.5, 'MixGR': 62.2}\n",
    "    },\n",
    "    'SciQ': {\n",
    "        'EM@50': {'query-prop': 56.2, 'MixGR': 59.0},\n",
    "        'EM@200': {'query-prop': 60.9, 'MixGR': 63.3}\n",
    "    },\n",
    "}\n",
    "\n",
    "# Convert data to a DataFrame\n",
    "df = pd.DataFrame([\n",
    "    {\"Dataset\": dataset, \"Metric\": metric, \"Method\": method, \"Score\": score}\n",
    "    for dataset, metrics in data.items()\n",
    "    for metric, methods in metrics.items()\n",
    "    for method, score in methods.items()\n",
    "])\n",
    "\n",
    "# Define colors for methods using viridis palette\n",
    "method_colors = {\n",
    "    'query-prop': '#66c2a5',  # Teal\n",
    "    'MixGR': '#8da0cb'  # Green\n",
    "}\n",
    "\n",
    "# Define hatch patterns for metrics\n",
    "metric_hatches = {\n",
    "    'EM@50': '',\n",
    "    'EM@200': '.'\n",
    "}\n",
    "\n",
    "# Plotting with Matplotlib\n",
    "fig, ax = plt.subplots(figsize=(12, 4.5))\n",
    "\n",
    "# Unique datasets, methods, and metrics\n",
    "datasets = df['Dataset'].unique()\n",
    "methods = df['Method'].unique()\n",
    "metrics = df['Metric'].unique()\n",
    "\n",
    "# Width of a single bar\n",
    "bar_width = 0.2\n",
    "\n",
    "# Calculate the positions for each bar\n",
    "bar_positions = []\n",
    "for i, dataset in enumerate(datasets):\n",
    "    for j, metric in enumerate(metrics):\n",
    "        for k, method in enumerate(methods):\n",
    "            bar_positions.append(i + j * (len(methods) * bar_width) + k * bar_width + 0.1)\n",
    "\n",
    "# Plotting the bars\n",
    "bars = []\n",
    "for i, (dataset, metric, method, score) in enumerate(zip(df['Dataset'], df['Metric'], df['Method'], df['Score'])):\n",
    "    offset = bar_positions[i]\n",
    "    bar = ax.bar(offset, score, color=method_colors[method], width=bar_width, edgecolor='none', hatch=metric_hatches[metric])\n",
    "    bars.append(bar)\n",
    "\n",
    "# Adding labels and title\n",
    "ax.set_xlabel('', fontsize=14)\n",
    "ax.set_ylabel('', fontsize=14)\n",
    "ax.tick_params(axis='y', labelsize=25)\n",
    "ax.set_title('', fontsize=16)\n",
    "ax.set_xticks([r + (len(metrics) * len(methods) * bar_width) / 2 for r in range(len(datasets))])\n",
    "ax.set_xticklabels(datasets, fontsize=30)\n",
    "ax.set_ylim(35, 65)\n",
    "\n",
    "# Custom legend for methods\n",
    "method_patches = [Patch(facecolor=method_colors[method], edgecolor='none', label=method) for method in methods]\n",
    "\n",
    "# Custom legend for metrics\n",
    "hatch_patches = [Patch(facecolor='white', edgecolor='grey', hatch=metric_hatches[metric], label=metric) for metric in metrics]\n",
    "\n",
    "# Combine legends\n",
    "combined_legend = ax.legend(handles=hatch_patches + method_patches, title='', fontsize=21.6, loc=2, borderpad=0.1)\n",
    "ax.add_artist(combined_legend)\n",
    "\n",
    "# Show the plot\n",
    "plt.tight_layout()\n",
    "plt.savefig('extention_to_proposition.pdf')\n",
    "plt.show()\n"
   ]
  },
  {
   "cell_type": "markdown",
   "id": "865ce8a6-8d2c-430f-8347-18542bc033d8",
   "metadata": {},
   "source": [
    "### Section 6.2: BM25"
   ]
  },
  {
   "cell_type": "code",
   "execution_count": null,
   "id": "8df8eaa9-6592-4146-8fc9-9422b0e1b7f3",
   "metadata": {},
   "outputs": [],
   "source": [
    "{\n",
    "    'SciFact': {\n",
    "        'Original': 68.5,\n",
    "        'MixGR': 71.0,\n",
    "        'BM25': 69.2,\n",
    "    },\n",
    "    'SciDocs':  {\n",
    "        'Original': 18.5,\n",
    "        'MixGR': 20.7,\n",
    "        'BM25': 19.9,\n",
    "    },\n",
    "    'NFCorpus': {\n",
    "        'Original': 34.9,\n",
    "        'MixGR': 37.1,\n",
    "        'BM25': 30.65,\n",
    "    },\n",
    "    'SciQ':  {\n",
    "        'Original': 70.0,\n",
    "        'MixGR': 86.7,\n",
    "        'BM25': 92.2,\n",
    "    }\n",
    "}\n"
   ]
  },
  {
   "cell_type": "code",
   "execution_count": 508,
   "id": "081c47b8-5741-4f78-b638-2d30f380d763",
   "metadata": {},
   "outputs": [
    {
     "name": "stderr",
     "output_type": "stream",
     "text": [
      "/scratch/92771/ipykernel_558910/3423460148.py:39: UserWarning: The palette list has more values (4) than needed (3), which may not be intended.\n",
      "  sns.barplot(x='Dataset', y='Score', hue='Method', data=df, palette=['#3c5488', '#4dbbd5', '#00a087', '#e69f00'])\n"
     ]
    },
    {
     "data": {
      "image/png": "[encoded data removed]",
      "text/plain": [
       "<Figure size 1000x400 with 1 Axes>"
      ]
     },
     "metadata": {},
     "output_type": "display_data"
    }
   ],
   "source": [
    "import matplotlib.pyplot as plt\n",
    "import seaborn as sns\n",
    "import pandas as pd\n",
    "\n",
    "# Data from the dictionary\n",
    "data = {\n",
    "    'SciFact': {\n",
    "        'w/o MixGR': 68.5,\n",
    "        'w/ MixGR': 71.0,\n",
    "        'BM25': 69.2,\n",
    "    },\n",
    "    'SciDocs':  {\n",
    "        'w/o MixGR': 18.5,\n",
    "        'w/ MixGR': 20.7,\n",
    "        'BM25': 19.9,\n",
    "    },\n",
    "    'NFCorpus': {\n",
    "        'w/o MixGR': 34.9,\n",
    "        'w/ MixGR': 37.1,\n",
    "        'BM25': 30.65,\n",
    "    },\n",
    "    'SciQ':  {\n",
    "        'w/o MixGR': 70.0,\n",
    "        'w/ MixGR': 86.7,\n",
    "        'BM25': 92.2,\n",
    "    }\n",
    "}\n",
    "\n",
    "# Convert the data into a DataFrame for easier plotting with Seaborn\n",
    "data_list = []\n",
    "for dataset, scores in data.items():\n",
    "    for method, score in scores.items():\n",
    "        data_list.append([dataset, method, score])\n",
    "\n",
    "df = pd.DataFrame(data_list, columns=['Dataset', 'Method', 'Score'])\n",
    "\n",
    "# Plotting the data\n",
    "plt.figure(figsize=(10, 4))\n",
    "sns.barplot(x='Dataset', y='Score', hue='Method', data=df, palette=['#3c5488', '#4dbbd5', '#00a087', '#e69f00'])\n",
    "\n",
    "# Set labels and title\n",
    "plt.ylabel('NDCG@20(%)')\n",
    "\n",
    "plt.xlabel('')\n",
    "\n",
    "\n",
    "# Adjust the legend\n",
    "plt.legend(fontsize=20, title_fontsize='13')\n",
    "\n",
    "plt.savefig(\"contriever_bm25.pdf\", format='pdf')\n",
    "\n",
    "# Show the plot\n",
    "plt.show()\n"
   ]
  },
  {
   "cell_type": "markdown",
   "id": "0a247910",
   "metadata": {},
   "source": [
    "### Section 6.3: Ablation study"
   ]
  },
  {
   "cell_type": "code",
   "execution_count": 45,
   "id": "5d219465",
   "metadata": {},
   "outputs": [
    {
     "data": {
      "text/plain": [
       "{'NDCG@5': 0.5017183333333333,\n",
       " 'NDCG@20': 0.5463049999999999,\n",
       " 'Recall@5': 0.5863750000000001,\n",
       " 'Recall@20': 0.7303683333333333}"
      ]
     },
     "execution_count": 45,
     "metadata": {},
     "output_type": "execute_result"
    }
   ],
   "source": [
    "scifact_ablation[0]['avg']"
   ]
  },
  {
   "cell_type": "code",
   "execution_count": 51,
   "id": "bb4d5ac2",
   "metadata": {},
   "outputs": [
    {
     "data": {
      "text/plain": [
       "{'nfcorpus': {'-conv': 0.28202,\n",
       "  '-prop': 0.28897833333333334,\n",
       "  '-whole': 0.28602,\n",
       "  'mixgr': 0.29142333333333337},\n",
       " 'scidocs': {'-conv': 0.15744666666666665,\n",
       "  '-prop': 0.15874,\n",
       "  '-whole': 0.15528666666666666,\n",
       "  'mixgr': 0.16227166666666668},\n",
       " 'scifact': {'-conv': 0.5463049999999999,\n",
       "  '-prop': 0.5552,\n",
       "  '-whole': 0.5483033333333334,\n",
       "  'mixgr': 0.55958},\n",
       " 'sciq': {'-conv': 0.7910150000000001,\n",
       "  '-prop': 0.812065,\n",
       "  '-whole': 0.807265,\n",
       "  'mixgr': 0.848585}}"
      ]
     },
     "execution_count": 51,
     "metadata": {},
     "output_type": "execute_result"
    }
   ],
   "source": [
    "# dict_ = {dataset: {'-conv': ...}, ...}\n",
    "ablation_dict = {}\n",
    "for dataset, ablations in {'nfcorpus': nfcorpus_ablation, 'scidocs': scidocs_ablation, 'scifact': scifact_ablation, 'sciq': sciq_ablation}.items():\n",
    "    ablation_dict[dataset] = {}\n",
    "    for type_idx, ablation_type in enumerate(['-conv', '-prop', '-whole', 'mixgr']):\n",
    "        ablation = ablations[type_idx]\n",
    "        ablation_dict[dataset][ablation_type] = ablation['avg']['NDCG@20']\n",
    "        \n",
    "ablation_dict        "
   ]
  },
  {
   "cell_type": "code",
   "execution_count": 309,
   "id": "f14f54a8",
   "metadata": {},
   "outputs": [
    {
     "name": "stderr",
     "output_type": "stream",
     "text": [
      "/scratch/92771/ipykernel_558910/519703109.py:34: FutureWarning: \n",
      "\n",
      "Passing `palette` without assigning `hue` is deprecated and will be removed in v0.14.0. Assign the `x` variable to `hue` and set `legend=False` for the same effect.\n",
      "\n",
      "  barplot = sns.barplot(data=subset, x='Measurement', y='Score', ax=ax, palette='viridis', width=0.8)\n",
      "/scratch/92771/ipykernel_558910/519703109.py:34: FutureWarning: \n",
      "\n",
      "Passing `palette` without assigning `hue` is deprecated and will be removed in v0.14.0. Assign the `x` variable to `hue` and set `legend=False` for the same effect.\n",
      "\n",
      "  barplot = sns.barplot(data=subset, x='Measurement', y='Score', ax=ax, palette='viridis', width=0.8)\n",
      "/scratch/92771/ipykernel_558910/519703109.py:34: FutureWarning: \n",
      "\n",
      "Passing `palette` without assigning `hue` is deprecated and will be removed in v0.14.0. Assign the `x` variable to `hue` and set `legend=False` for the same effect.\n",
      "\n",
      "  barplot = sns.barplot(data=subset, x='Measurement', y='Score', ax=ax, palette='viridis', width=0.8)\n",
      "/scratch/92771/ipykernel_558910/519703109.py:34: FutureWarning: \n",
      "\n",
      "Passing `palette` without assigning `hue` is deprecated and will be removed in v0.14.0. Assign the `x` variable to `hue` and set `legend=False` for the same effect.\n",
      "\n",
      "  barplot = sns.barplot(data=subset, x='Measurement', y='Score', ax=ax, palette='viridis', width=0.8)\n"
     ]
    },
    {
     "data": {
      "image/png": "[encoded data removed]",
      "text/plain": [
       "<Figure size 1200x1000 with 4 Axes>"
      ]
     },
     "metadata": {},
     "output_type": "display_data"
    }
   ],
   "source": [
    "import matplotlib.pyplot as plt\n",
    "import seaborn as sns\n",
    "import pandas as pd\n",
    "\n",
    "# Data conversion to DataFrame\n",
    "data = {\n",
    "    'Dataset': [],\n",
    "    'Measurement': [],\n",
    "    'Score': []\n",
    "}\n",
    "\n",
    "datasets = {\n",
    "    'NFCorpus': {'w/o s-p': 0.28202, 'w/o q-p': 0.288978, 'w/o q-d': 0.28602, 'MixGR': 0.291423},\n",
    "    'SciDocs': {'w/o s-p': 0.157447, 'w/o q-p': 0.15874, 'w/o q-d': 0.155287, 'MixGR': 0.162272},\n",
    "    'SciFact': {'w/o s-p': 0.546305, 'w/o q-p': 0.5552, 'w/o q-d': 0.548303, 'MixGR': 0.55958},\n",
    "    'SciQ': {'w/o s-p': 0.791015, 'w/o q-p': 0.812065, 'w/o q-d': 0.807265, 'MixGR': 0.848585}\n",
    "}\n",
    "\n",
    "for dataset, measurements in datasets.items():\n",
    "    for measurement, score in measurements.items():\n",
    "        data['Dataset'].append(dataset)\n",
    "        data['Measurement'].append(measurement)\n",
    "        data['Score'].append(score)\n",
    "\n",
    "df = pd.DataFrame(data)\n",
    "\n",
    "# Create the figure and axes\n",
    "fig, axes = plt.subplots(2, 2, figsize=(12, 10))\n",
    "axes = axes.flatten()\n",
    "\n",
    "# Plot each dataset in its respective subplot\n",
    "for i, (dataset, ax) in enumerate(zip(datasets, axes)):\n",
    "    subset = df[df['Dataset'] == dataset]\n",
    "    barplot = sns.barplot(data=subset, x='Measurement', y='Score', ax=ax, palette='viridis', width=0.8)\n",
    "    ax.set_title(dataset, fontsize=25)\n",
    "    ax.set_ylim(0.99 * subset['Score'].min(), 1.01 * subset['Score'].max())\n",
    "    ax.set_xlabel('')  # Remove x-axis label\n",
    "    ax.set_ylabel('')  # Remove y-axis label\n",
    "    ax.tick_params(axis='x', length=0, labelsize=20)  # Remove x-axis ticks\n",
    "    ax.tick_params(axis='y', labelsize=20) \n",
    "#     ax.tick_params(labelbottom=False)  # Hide x-axis tick labels\n",
    "\n",
    "# Place a legend at the bottom of the figure\n",
    "# handles, labels = axes[0].get_legend_handles_labels()  # Get legend from the first plot\n",
    "# fig.legend(handles, labels, loc='lower center', bbox_to_anchor=(0.5, 0.0), ncol=4, fontsize=100)\n",
    "\n",
    "# Adjust layout to make space for the legend\n",
    "plt.tight_layout(pad=3.0)\n",
    "fig.subplots_adjust(bottom=0.2)  # Increase the bottom margin to make space for the larger legend\n",
    "plt.savefig('./ablation.pdf', bbox_inches='tight')\n",
    "\n",
    "plt.show()"
   ]
  },
  {
   "cell_type": "code",
   "execution_count": null,
   "id": "8e1c73c8-26a0-458c-8683-3e838d873232",
   "metadata": {},
   "outputs": [],
   "source": []
  }
 ],
 "metadata": {
  "kernelspec": {
   "display_name": "Python 3 (ipykernel)",
   "language": "python",
   "name": "python3"
  },
  "language_info": {
   "codemirror_mode": {
    "name": "ipython",
    "version": 3
   },
   "file_extension": ".py",
   "mimetype": "text/x-python",
   "name": "python",
   "nbconvert_exporter": "python",
   "pygments_lexer": "ipython3",
   "version": "3.9.18"
  }
 },
 "nbformat": 4,
 "nbformat_minor": 5
}
